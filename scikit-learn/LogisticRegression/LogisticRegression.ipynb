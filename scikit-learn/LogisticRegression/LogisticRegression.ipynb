{
 "cells": [
  {
   "cell_type": "code",
   "execution_count": 2,
   "metadata": {},
   "outputs": [],
   "source": [
    "#逻辑回归通常被用于处理二分类问题，但逻辑回归也可以做多分类\n",
    "from sklearn.linear_model import LogisticRegression as LR\n",
    "from sklearn.datasets import load_breast_cancer\n",
    "import numpy as np\n",
    "import matplotlib.pyplot as plt \n",
    "from sklearn.model_selection import train_test_split\n",
    "from sklearn.metrics import accuracy_score"
   ]
  },
  {
   "cell_type": "code",
   "execution_count": 9,
   "metadata": {},
   "outputs": [
    {
     "name": "stdout",
     "output_type": "stream",
     "text": [
      "(569, 30)\n"
     ]
    }
   ],
   "source": [
    "data = load_breast_cancer()\n",
    "X = data.data\n",
    "print(X.shape)\n",
    "y = data.target\n",
    "\n",
    "#这里一共有30个特征，但是要看有没有乳腺癌，30个特征太多了，要特征选择"
   ]
  },
  {
   "cell_type": "code",
   "execution_count": 12,
   "metadata": {},
   "outputs": [],
   "source": [
    "#实例化两个逻辑回归的模型，一个是L1正则，一个是L2正则\n",
    "lrl1 = LR(penalty=\"l1\",solver=\"liblinear\",C=0.5,max_iter=1000)\n",
    "lrl2 = LR(penalty=\"l2\",solver=\"liblinear\",C=0.5,max_iter=1000)"
   ]
  },
  {
   "cell_type": "code",
   "execution_count": 13,
   "metadata": {},
   "outputs": [
    {
     "data": {
      "text/plain": [
       "array([[ 3.9811889 ,  0.03127831, -0.13433021, -0.01619932,  0.        ,\n",
       "         0.        ,  0.        ,  0.        ,  0.        ,  0.        ,\n",
       "         0.        ,  0.50242609,  0.        , -0.07123931,  0.        ,\n",
       "         0.        ,  0.        ,  0.        ,  0.        ,  0.        ,\n",
       "         0.        , -0.24509139, -0.1283685 , -0.01443098,  0.        ,\n",
       "         0.        , -2.06137535,  0.        ,  0.        ,  0.        ]])"
      ]
     },
     "execution_count": 13,
     "metadata": {},
     "output_type": "execute_result"
    }
   ],
   "source": [
    "lrl1 = lrl1.fit(X,y)\n",
    "#逻辑回归的重要属性coef_就是θ，查看每个特征所对应的参数\n",
    "lrl1.coef_#虽然有30个参数，但是很多参数都返回了0"
   ]
  },
  {
   "cell_type": "code",
   "execution_count": 20,
   "metadata": {},
   "outputs": [
    {
     "data": {
      "text/plain": [
       "array([[ True,  True,  True,  True, False, False, False, False, False,\n",
       "        False, False,  True, False,  True, False, False, False, False,\n",
       "        False, False, False,  True,  True,  True, False, False,  True,\n",
       "        False, False, False]], dtype=bool)"
      ]
     },
     "execution_count": 20,
     "metadata": {},
     "output_type": "execute_result"
    }
   ],
   "source": [
    "lrl1.coef_ != 0 #把lrl1.coef数组里不等于0的取出来"
   ]
  },
  {
   "cell_type": "code",
   "execution_count": 18,
   "metadata": {},
   "outputs": [
    {
     "data": {
      "text/plain": [
       "array([10])"
      ]
     },
     "execution_count": 18,
     "metadata": {},
     "output_type": "execute_result"
    }
   ],
   "source": [
    "(lrl1.coef_ != 0).sum(axis=1)"
   ]
  },
  {
   "cell_type": "code",
   "execution_count": 22,
   "metadata": {},
   "outputs": [
    {
     "data": {
      "text/plain": [
       "array([[  1.61543234e+00,   1.02284415e-01,   4.78483684e-02,\n",
       "         -4.43927107e-03,  -9.42247882e-02,  -3.01420673e-01,\n",
       "         -4.56065677e-01,  -2.22346063e-01,  -1.35660484e-01,\n",
       "         -1.93917198e-02,   1.61646580e-02,   8.84531037e-01,\n",
       "          1.20301273e-01,  -9.47422278e-02,  -9.81687769e-03,\n",
       "         -2.37399092e-02,  -5.71846204e-02,  -2.70190106e-02,\n",
       "         -2.77563737e-02,   1.98122260e-04,   1.26394730e+00,\n",
       "         -3.01762592e-01,  -1.72784162e-01,  -2.21786411e-02,\n",
       "         -1.73339657e-01,  -8.79070550e-01,  -1.16325561e+00,\n",
       "         -4.27661014e-01,  -4.20612369e-01,  -8.69820058e-02]])"
      ]
     },
     "execution_count": 22,
     "metadata": {},
     "output_type": "execute_result"
    }
   ],
   "source": [
    "lrl2 = lrl2.fit(X,y)\n",
    "lrl2.coef_\n",
    "#有很多很小的参数，但是没有0"
   ]
  },
  {
   "cell_type": "code",
   "execution_count": 28,
   "metadata": {},
   "outputs": [
    {
     "data": {
      "image/png": "[encoded data removed]",
      "text/plain": [
       "<Figure size 432x432 with 1 Axes>"
      ]
     },
     "metadata": {
      "needs_background": "light"
     },
     "output_type": "display_data"
    }
   ],
   "source": [
    "#画C的学习曲线\n",
    "l1 = []\n",
    "l2 = []\n",
    "l1test = []\n",
    "l2test = []\n",
    "X_train, X_test, y_train, y_test = train_test_split(X,y,test_size=0.3,random_state=420)\n",
    "\n",
    "for i in np.linspace(0.05,1,19):\n",
    "    lrl1 = LR(penalty=\"l1\",solver=\"liblinear\",C=i,max_iter=1000)\n",
    "    lrl2 = LR(penalty=\"l2\",solver=\"liblinear\",C=i,max_iter=1000)\n",
    "    lrl1 = lrl1.fit(X_train,y_train)\n",
    "    l1.append(accuracy_score(y_train,lrl1.predict(X_train)))\n",
    "    l1test.append(accuracy_score(y_test,lrl1.predict(X_test)))#就等于lrl1.score(Xtest,ytest)\n",
    "    \n",
    "    lrl2 = lrl2.fit(X_train,y_train)\n",
    "    l2.append(accuracy_score(y_train,lrl2.predict(X_train)))\n",
    "    l2test.append(accuracy_score(y_test,lrl2.predict(X_test)))\n",
    "    \n",
    "graph = [l1,l2,l1test,l2test]\n",
    "color = [\"green\",\"black\",\"lightgreen\",\"gray\"]\n",
    "label = [\"L1\",\"L2\",\"L1test\",\"L2test\"]\n",
    "    \n",
    "#循环画图    \n",
    "plt.figure(figsize=(6,6))\n",
    "for i in range(len(graph)):\n",
    "    plt.plot(np.linspace(0.05,1,19),graph[i],color[i],label=label[i])\n",
    "plt.legend(loc=4)\n",
    "plt.show()\n",
    "    "
   ]
  },
  {
   "cell_type": "code",
   "execution_count": null,
   "metadata": {},
   "outputs": [],
   "source": []
  },
  {
   "cell_type": "code",
   "execution_count": null,
   "metadata": {},
   "outputs": [],
   "source": []
  }
 ],
 "metadata": {
  "kernelspec": {
   "display_name": "tf",
   "language": "python",
   "name": "tf"
  },
  "language_info": {
   "codemirror_mode": {
    "name": "ipython",
    "version": 3
   },
   "file_extension": ".py",
   "mimetype": "text/x-python",
   "name": "python",
   "nbconvert_exporter": "python",
   "pygments_lexer": "ipython3",
   "version": "3.6.8"
  },
  "toc": {
   "base_numbering": 1,
   "nav_menu": {},
   "number_sections": true,
   "sideBar": true,
   "skip_h1_title": false,
   "title_cell": "Table of Contents",
   "title_sidebar": "Contents",
   "toc_cell": false,
   "toc_position": {},
   "toc_section_display": true,
   "toc_window_display": false
  }
 },
 "nbformat": 4,
 "nbformat_minor": 2
}
